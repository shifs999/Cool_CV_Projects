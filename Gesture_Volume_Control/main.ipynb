{
 "cells": [
  {
   "cell_type": "code",
   "execution_count": 21,
   "id": "1a776d18",
   "metadata": {},
   "outputs": [],
   "source": [
    "import cv2\n",
    "import time\n",
    "import numpy as np"
   ]
  },
  {
   "cell_type": "code",
   "execution_count": 22,
   "id": "05fc679c",
   "metadata": {},
   "outputs": [
    {
     "name": "stdout",
     "output_type": "stream",
     "text": [
      "Requirement already satisfied: mediapipe in c:\\users\\lenovo\\mediapipe-env\\lib\\site-packages (0.10.21)\n",
      "Requirement already satisfied: absl-py in c:\\users\\lenovo\\mediapipe-env\\lib\\site-packages (from mediapipe) (2.3.0)\n",
      "Requirement already satisfied: attrs>=19.1.0 in c:\\users\\lenovo\\mediapipe-env\\lib\\site-packages (from mediapipe) (25.3.0)\n",
      "Requirement already satisfied: flatbuffers>=2.0 in c:\\users\\lenovo\\mediapipe-env\\lib\\site-packages (from mediapipe) (25.2.10)\n",
      "Requirement already satisfied: jax in c:\\users\\lenovo\\mediapipe-env\\lib\\site-packages (from mediapipe) (0.6.1)\n",
      "Requirement already satisfied: jaxlib in c:\\users\\lenovo\\mediapipe-env\\lib\\site-packages (from mediapipe) (0.6.1)\n",
      "Requirement already satisfied: matplotlib in c:\\users\\lenovo\\mediapipe-env\\lib\\site-packages (from mediapipe) (3.10.3)\n",
      "Requirement already satisfied: numpy<2 in c:\\users\\lenovo\\mediapipe-env\\lib\\site-packages (from mediapipe) (1.26.4)\n",
      "Requirement already satisfied: opencv-contrib-python in c:\\users\\lenovo\\mediapipe-env\\lib\\site-packages (from mediapipe) (4.11.0.86)\n",
      "Requirement already satisfied: protobuf<5,>=4.25.3 in c:\\users\\lenovo\\mediapipe-env\\lib\\site-packages (from mediapipe) (4.25.8)\n",
      "Requirement already satisfied: sounddevice>=0.4.4 in c:\\users\\lenovo\\mediapipe-env\\lib\\site-packages (from mediapipe) (0.5.2)\n",
      "Requirement already satisfied: sentencepiece in c:\\users\\lenovo\\mediapipe-env\\lib\\site-packages (from mediapipe) (0.2.0)\n",
      "Requirement already satisfied: CFFI>=1.0 in c:\\users\\lenovo\\mediapipe-env\\lib\\site-packages (from sounddevice>=0.4.4->mediapipe) (1.17.1)\n",
      "Requirement already satisfied: pycparser in c:\\users\\lenovo\\mediapipe-env\\lib\\site-packages (from CFFI>=1.0->sounddevice>=0.4.4->mediapipe) (2.22)\n",
      "Requirement already satisfied: ml_dtypes>=0.5.0 in c:\\users\\lenovo\\mediapipe-env\\lib\\site-packages (from jax->mediapipe) (0.5.1)\n",
      "Requirement already satisfied: opt_einsum in c:\\users\\lenovo\\mediapipe-env\\lib\\site-packages (from jax->mediapipe) (3.4.0)\n",
      "Requirement already satisfied: scipy>=1.11.1 in c:\\users\\lenovo\\mediapipe-env\\lib\\site-packages (from jax->mediapipe) (1.15.3)\n",
      "Requirement already satisfied: contourpy>=1.0.1 in c:\\users\\lenovo\\mediapipe-env\\lib\\site-packages (from matplotlib->mediapipe) (1.3.2)\n",
      "Requirement already satisfied: cycler>=0.10 in c:\\users\\lenovo\\mediapipe-env\\lib\\site-packages (from matplotlib->mediapipe) (0.12.1)\n",
      "Requirement already satisfied: fonttools>=4.22.0 in c:\\users\\lenovo\\mediapipe-env\\lib\\site-packages (from matplotlib->mediapipe) (4.58.4)\n",
      "Requirement already satisfied: kiwisolver>=1.3.1 in c:\\users\\lenovo\\mediapipe-env\\lib\\site-packages (from matplotlib->mediapipe) (1.4.8)\n",
      "Requirement already satisfied: packaging>=20.0 in c:\\users\\lenovo\\mediapipe-env\\lib\\site-packages (from matplotlib->mediapipe) (25.0)\n",
      "Requirement already satisfied: pillow>=8 in c:\\users\\lenovo\\mediapipe-env\\lib\\site-packages (from matplotlib->mediapipe) (11.2.1)\n",
      "Requirement already satisfied: pyparsing>=2.3.1 in c:\\users\\lenovo\\mediapipe-env\\lib\\site-packages (from matplotlib->mediapipe) (3.2.3)\n",
      "Requirement already satisfied: python-dateutil>=2.7 in c:\\users\\lenovo\\mediapipe-env\\lib\\site-packages (from matplotlib->mediapipe) (2.9.0.post0)\n",
      "Requirement already satisfied: six>=1.5 in c:\\users\\lenovo\\mediapipe-env\\lib\\site-packages (from python-dateutil>=2.7->matplotlib->mediapipe) (1.17.0)\n"
     ]
    }
   ],
   "source": [
    "!pip install mediapipe"
   ]
  },
  {
   "cell_type": "code",
   "execution_count": 23,
   "id": "7444bb21",
   "metadata": {},
   "outputs": [
    {
     "data": {
      "text/plain": [
       "<module 'Hand_Tracker' from 'C:\\\\Users\\\\Lenovo\\\\Hand_Tracker.py'>"
      ]
     },
     "execution_count": 23,
     "metadata": {},
     "output_type": "execute_result"
    }
   ],
   "source": [
    "import importlib\n",
    "import Hand_Tracker as ht\n",
    "importlib.reload(ht)"
   ]
  },
  {
   "cell_type": "code",
   "execution_count": 24,
   "id": "bb3ad356-11d6-4933-af7d-b390754765b0",
   "metadata": {
    "scrolled": true
   },
   "outputs": [
    {
     "name": "stdout",
     "output_type": "stream",
     "text": [
      "Requirement already satisfied: pycaw in c:\\users\\lenovo\\mediapipe-env\\lib\\site-packages (20240210)\n",
      "Requirement already satisfied: comtypes in c:\\users\\lenovo\\mediapipe-env\\lib\\site-packages (from pycaw) (1.4.11)\n",
      "Requirement already satisfied: psutil in c:\\users\\lenovo\\mediapipe-env\\lib\\site-packages (from pycaw) (7.0.0)\n"
     ]
    }
   ],
   "source": [
    "!pip install pycaw"
   ]
  },
  {
   "cell_type": "code",
   "execution_count": 25,
   "id": "e2264ffb-6079-4b6a-b4af-e9c4c0c9d962",
   "metadata": {},
   "outputs": [
    {
     "name": "stdout",
     "output_type": "stream",
     "text": [
      "640.0 x 480.0\n"
     ]
    }
   ],
   "source": [
    "cap = cv2.VideoCapture(0)        # default cam\n",
    "default_width = cap.get(3)\n",
    "default_height = cap.get(4)\n",
    "print(default_width, 'x' , default_height)  # checking our camera's default resolution\n"
   ]
  },
  {
   "cell_type": "code",
   "execution_count": 33,
   "id": "01b9310b",
   "metadata": {
    "scrolled": true
   },
   "outputs": [
    {
     "name": "stdout",
     "output_type": "stream",
     "text": [
      "Keyboard interrupt detected. Releasing camera...\n",
      "Camera released and windows closed.\n"
     ]
    }
   ],
   "source": [
    "import math\n",
    "from ctypes import cast, POINTER\n",
    "from comtypes import CLSCTX_ALL\n",
    "from pycaw.pycaw import AudioUtilities, IAudioEndpointVolume\n",
    "\n",
    "cap = cv2.VideoCapture(0)       \n",
    "cap.set(3, 640)\n",
    "cap.set(4, 480)\n",
    "pTime = 0\n",
    "\n",
    "detector = ht.handDetector(detectionCon=0.75, maxHands=1)\n",
    "\n",
    "devices = AudioUtilities.GetSpeakers()\n",
    "interface = devices.Activate(IAudioEndpointVolume._iid_, CLSCTX_ALL, None)\n",
    "volume = cast(interface, POINTER(IAudioEndpointVolume))\n",
    "volume.GetMasterVolumeLevel()\n",
    "volRange = volume.GetVolumeRange()\n",
    "minVol = volRange[0]\n",
    "maxVol = volRange[1]\n",
    "vol = 0\n",
    "volBar = 400\n",
    "volPer = 0\n",
    "volumeLocked = False\n",
    "\n",
    "try:\n",
    "    while True:\n",
    "        success, img = cap.read()\n",
    "        if not success:\n",
    "            print(\"Failed to capture image\")\n",
    "            break\n",
    "        img = detector.findHands(img)\n",
    "        lmList, bbox = detector.findPosition(img, draw=False)\n",
    "        if len(lmList) != 0:\n",
    "            fingers = detector.fingersUp()\n",
    "\n",
    "            if fingers[3] == 0:\n",
    "                volumeLocked = True\n",
    "            \n",
    "            elif fingers == [1, 1, 1, 1, 1]:\n",
    "                volumeLocked = False\n",
    "        \n",
    "            if not volumeLocked:\n",
    "                x1, y1 = lmList[4][1], lmList[4][2]\n",
    "                x2, y2 = lmList[8][1], lmList[8][2]\n",
    "        \n",
    "                cv2.circle(img, (x1, y1), 15, (255, 0, 255), cv2.FILLED)\n",
    "                cv2.circle(img, (x2, y2), 15, (255, 0, 255), cv2.FILLED)\n",
    "                cv2.line(img, (x1, y1), (x2, y2), (255, 0, 255), 3)\n",
    "        \n",
    "                length = math.hypot(x2 - x1, y2 - y1)\n",
    "        \n",
    "                minLength = 30\n",
    "                maxLength = 250\n",
    "        \n",
    "                volPer = np.interp(length, [minLength, maxLength], [0, 100])\n",
    "                volBar = np.interp(length, [minLength, maxLength], [400, 150])\n",
    "                volScalar = volPer / 100\n",
    "                \n",
    "                smoothVol = 0.8 * volScalar + 0.2 * volume.GetMasterVolumeLevelScalar()\n",
    "                volume.SetMasterVolumeLevelScalar(smoothVol, None)\n",
    "        \n",
    "                if abs(length - maxLength) < 10 or abs(length - minLength) < 10:\n",
    "                    volPer = round(volPer)\n",
    "\n",
    "\n",
    "\n",
    "        cv2.rectangle(img, (50, 150), (85, 400), (0, 255, 0), 2)\n",
    "        cv2.rectangle(img, (50, int(volBar)), (85, 400), (0, 255, 0), cv2.FILLED)\n",
    "        cv2.putText(img, f'{int(volPer)} %', (40, 430), cv2.FONT_HERSHEY_COMPLEX, 1, (255, 255, 0), 3)\n",
    "        if volumeLocked:\n",
    "            cv2.putText(img, 'VOLUME LOCKED', (10, 60), cv2.FONT_HERSHEY_SIMPLEX, 0.75, (0, 0, 255), 3)\n",
    "\n",
    "        cv2.imshow(\"Image\", img)\n",
    "        if cv2.waitKey(1) & 0xFF == ord('q'):\n",
    "            break\n",
    "except KeyboardInterrupt:\n",
    "    print(\"Keyboard interrupt detected. Releasing camera...\")\n",
    "\n",
    "finally:\n",
    "    cap.release()\n",
    "    cv2.destroyAllWindows()\n",
    "    print(\"Camera released and windows closed.\")\n"
   ]
  },
  {
   "cell_type": "code",
   "execution_count": null,
   "id": "6bbeaa7e",
   "metadata": {},
   "outputs": [],
   "source": []
  }
 ],
 "metadata": {
  "kernelspec": {
   "display_name": "Python (mediapipe-env)",
   "language": "python",
   "name": "mediapipe-env"
  },
  "language_info": {
   "codemirror_mode": {
    "name": "ipython",
    "version": 3
   },
   "file_extension": ".py",
   "mimetype": "text/x-python",
   "name": "python",
   "nbconvert_exporter": "python",
   "pygments_lexer": "ipython3",
   "version": "3.10.11"
  }
 },
 "nbformat": 4,
 "nbformat_minor": 5
}
